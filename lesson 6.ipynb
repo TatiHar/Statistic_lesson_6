{
 "cells": [
  {
   "cell_type": "markdown",
   "id": "7d6bf15f",
   "metadata": {},
   "source": [
    "Задание 1"
   ]
  },
  {
   "cell_type": "code",
   "execution_count": 1,
   "id": "4358cb3d",
   "metadata": {},
   "outputs": [],
   "source": [
    "import numpy as np\n",
    "import pandas as pd\n",
    "import scipy.stats as stats\n",
    "import pandas as pd"
   ]
  },
  {
   "cell_type": "code",
   "execution_count": 2,
   "id": "5438e252",
   "metadata": {},
   "outputs": [],
   "source": [
    "zp = np.array([35, 45, 190, 200, 40, 70, 54, 150, 120, 110])\n",
    "ks = np.array([401, 574, 874, 919, 459, 739, 653, 902, 746, 832])"
   ]
  },
  {
   "cell_type": "code",
   "execution_count": 3,
   "id": "ef6fefba",
   "metadata": {},
   "outputs": [],
   "source": [
    "cov = ((zp - zp.mean()) * (ks - ks.mean())).sum() / (zp.shape[0] - 1)"
   ]
  },
  {
   "cell_type": "code",
   "execution_count": 4,
   "id": "29a75ae7",
   "metadata": {},
   "outputs": [
    {
     "data": {
      "text/plain": [
       "10175.37777777778"
      ]
     },
     "execution_count": 4,
     "metadata": {},
     "output_type": "execute_result"
    }
   ],
   "source": [
    "cov"
   ]
  },
  {
   "cell_type": "code",
   "execution_count": 5,
   "id": "8a0fa16c",
   "metadata": {},
   "outputs": [
    {
     "data": {
      "text/plain": [
       "array([[ 3882.93333333, 10175.37777778],\n",
       "       [10175.37777778, 33854.32222222]])"
      ]
     },
     "execution_count": 5,
     "metadata": {},
     "output_type": "execute_result"
    }
   ],
   "source": [
    "np.cov(zp, ks, ddof=1)"
   ]
  },
  {
   "cell_type": "code",
   "execution_count": 6,
   "id": "879e64c8",
   "metadata": {},
   "outputs": [
    {
     "data": {
      "text/plain": [
       "0.8874900920739164"
      ]
     },
     "execution_count": 6,
     "metadata": {},
     "output_type": "execute_result"
    }
   ],
   "source": [
    "cov / (zp.std(ddof=1) * ks.std(ddof=1))"
   ]
  },
  {
   "cell_type": "markdown",
   "id": "1a475d7d",
   "metadata": {},
   "source": [
    "Задание 2"
   ]
  },
  {
   "cell_type": "code",
   "execution_count": 14,
   "id": "f8d4a8b0",
   "metadata": {},
   "outputs": [
    {
     "data": {
      "text/plain": [
       "array([ 99, 107, 111, 115, 115, 122, 125, 125, 131, 131])"
      ]
     },
     "execution_count": 14,
     "metadata": {},
     "output_type": "execute_result"
    }
   ],
   "source": [
    "iq = np.array([131, 125, 115, 122, 131, 115, 107, 99, 125, 111])\n",
    "iq.sort()\n",
    "iq"
   ]
  },
  {
   "cell_type": "code",
   "execution_count": 15,
   "id": "57d3252e",
   "metadata": {},
   "outputs": [
    {
     "data": {
      "text/plain": [
       "10"
      ]
     },
     "execution_count": 15,
     "metadata": {},
     "output_type": "execute_result"
    }
   ],
   "source": [
    "n = len(iq)\n",
    "n"
   ]
  },
  {
   "cell_type": "code",
   "execution_count": 16,
   "id": "523cb972",
   "metadata": {},
   "outputs": [
    {
     "data": {
      "text/plain": [
       "(110.55660776308164, 125.64339223691834)"
      ]
     },
     "execution_count": 16,
     "metadata": {},
     "output_type": "execute_result"
    }
   ],
   "source": [
    "t2a = 2.262\n",
    "t1 = iq.mean() - (t2a * iq.std(ddof=1) / np.sqrt(n))\n",
    "t2 = iq.mean() + (t2a * iq.std(ddof=1) / np.sqrt(n))\n",
    "(t1, t2)"
   ]
  },
  {
   "cell_type": "markdown",
   "id": "0810a2d0",
   "metadata": {},
   "source": [
    "Доверительный интервал равен [110.6, 125.6] с надежностью 0.95."
   ]
  },
  {
   "cell_type": "markdown",
   "id": "4dd6071c",
   "metadata": {},
   "source": [
    "Задание 3"
   ]
  },
  {
   "cell_type": "code",
   "execution_count": 18,
   "id": "1753e03c",
   "metadata": {},
   "outputs": [],
   "source": [
    "m = 174.2\n",
    "n = 27\n",
    "sig = 5\n",
    "alf = 0.05"
   ]
  },
  {
   "cell_type": "code",
   "execution_count": 19,
   "id": "d12067af",
   "metadata": {},
   "outputs": [],
   "source": [
    "z = 1.96"
   ]
  },
  {
   "cell_type": "code",
   "execution_count": 20,
   "id": "270caba4",
   "metadata": {},
   "outputs": [
    {
     "data": {
      "text/plain": [
       "172.31398912064722"
      ]
     },
     "execution_count": 20,
     "metadata": {},
     "output_type": "execute_result"
    }
   ],
   "source": [
    "с = m - z * (sig/np.sqrt(n))\n",
    "с"
   ]
  },
  {
   "cell_type": "code",
   "execution_count": 21,
   "id": "127c9114",
   "metadata": {},
   "outputs": [
    {
     "data": {
      "text/plain": [
       "176.08601087935276"
      ]
     },
     "execution_count": 21,
     "metadata": {},
     "output_type": "execute_result"
    }
   ],
   "source": [
    "с1 = m + z * (sig/np.sqrt(n))\n",
    "с1"
   ]
  }
 ],
 "metadata": {
  "kernelspec": {
   "display_name": "Python 3",
   "language": "python",
   "name": "python3"
  },
  "language_info": {
   "codemirror_mode": {
    "name": "ipython",
    "version": 3
   },
   "file_extension": ".py",
   "mimetype": "text/x-python",
   "name": "python",
   "nbconvert_exporter": "python",
   "pygments_lexer": "ipython3",
   "version": "3.8.8"
  }
 },
 "nbformat": 4,
 "nbformat_minor": 5
}
